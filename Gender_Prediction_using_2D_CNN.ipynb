{
  "cells": [
    {
      "cell_type": "markdown",
      "metadata": {
        "id": "view-in-github",
        "colab_type": "text"
      },
      "source": [
        "<a href=\"https://colab.research.google.com/github/Ananthzeke/Deep-Learning/blob/main/Notebooks-Tensorflow/Gender_Prediction_using_2D_CNN.ipynb\" target=\"_parent\"><img src=\"https://colab.research.google.com/assets/colab-badge.svg\" alt=\"Open In Colab\"/></a>"
      ]
    },
    {
      "cell_type": "code",
      "execution_count": null,
      "metadata": {
        "id": "K0nsHWhYd6kd"
      },
      "outputs": [],
      "source": [
        "import tensorflow as tf\n",
        "import tensorflow.keras.layers as tfl\n",
        "import os\n",
        "import numpy as np"
      ]
    },
    {
      "cell_type": "code",
      "execution_count": null,
      "metadata": {
        "id": "1puRDUT8enfY",
        "colab": {
          "base_uri": "https://localhost:8080/"
        },
        "outputId": "f97c0546-9779-4ed2-e550-72fc427a52c5"
      },
      "outputs": [
        {
          "output_type": "stream",
          "name": "stdout",
          "text": [
            "Downloading data from https://data.vision.ee.ethz.ch/cvl/rrothe/imdb-wiki/static/wiki_crop.tar\n",
            "811319296/811315200 [==============================] - 33s 0us/step\n",
            "811327488/811315200 [==============================] - 33s 0us/step\n"
          ]
        }
      ],
      "source": [
        "url = \"https://data.vision.ee.ethz.ch/cvl/rrothe/imdb-wiki/static/wiki_crop.tar\"\n",
        "\n",
        "dataset = tf.keras.utils.get_file(\n",
        "    \"wiki_crop\", url,\n",
        "    untar=True, cache_dir='.',\n",
        "    cache_subdir=''\n",
        ")\n",
        "dataset_dir = os.path.join(os.path.dirname(dataset), 'wiki_crop')"
      ]
    },
    {
      "cell_type": "code",
      "execution_count": null,
      "metadata": {
        "id": "9gFm2qxrfhrR"
      },
      "outputs": [],
      "source": [
        "import scipy.io\n",
        "mat = scipy.io.loadmat(os.path.join(dataset_dir,'wiki.mat'))"
      ]
    },
    {
      "cell_type": "code",
      "execution_count": null,
      "metadata": {
        "colab": {
          "base_uri": "https://localhost:8080/"
        },
        "id": "SqNidA93fkZ1",
        "outputId": "38ca4319-7013-4d58-da9f-787eb9fc4f15"
      },
      "outputs": [
        {
          "output_type": "stream",
          "name": "stdout",
          "text": [
            "True\n"
          ]
        }
      ],
      "source": [
        "if True in np.isnan(mat['wiki']['gender'][0][0][0]):\n",
        "  print(True)"
      ]
    },
    {
      "cell_type": "code",
      "execution_count": null,
      "metadata": {
        "colab": {
          "base_uri": "https://localhost:8080/"
        },
        "id": "0vU39GNkfk0T",
        "outputId": "a74db2f7-ace4-49ab-c808-a57999283373"
      },
      "outputs": [
        {
          "output_type": "execute_result",
          "data": {
            "text/plain": [
              "array([1., 1., 1., ..., 1., 1., 0.])"
            ]
          },
          "metadata": {},
          "execution_count": 5
        }
      ],
      "source": [
        "mat['wiki']['gender'][0][0][0]"
      ]
    },
    {
      "cell_type": "code",
      "execution_count": null,
      "metadata": {
        "colab": {
          "base_uri": "https://localhost:8080/"
        },
        "id": "lIwBhrUUf0Fb",
        "outputId": "ec8b75e9-590f-42ac-97a8-77016f44f0cf"
      },
      "outputs": [
        {
          "output_type": "execute_result",
          "data": {
            "text/plain": [
              "array([array(['17/10000217_1981-05-05_2009.jpg'], dtype='<U31'),\n",
              "       array(['48/10000548_1925-04-04_1964.jpg'], dtype='<U31'),\n",
              "       array(['12/100012_1948-07-03_2008.jpg'], dtype='<U29'), ...,\n",
              "       array(['09/9998109_1972-12-27_2013.jpg'], dtype='<U30'),\n",
              "       array(['00/9999400_1981-12-13_2011.jpg'], dtype='<U30'),\n",
              "       array(['80/999980_1954-06-11_2008.jpg'], dtype='<U29')],\n",
              "      dtype=object)"
            ]
          },
          "metadata": {},
          "execution_count": 6
        }
      ],
      "source": [
        "mat[\"wiki\"][\"full_path\"][0][0][0]"
      ]
    },
    {
      "cell_type": "code",
      "execution_count": null,
      "metadata": {
        "id": "dverM_Ju5hex"
      },
      "outputs": [],
      "source": [
        "Nan_removed_indices=np.where(np.isnan(mat['wiki']['gender'][0][0][0])==False)[0]"
      ]
    },
    {
      "cell_type": "code",
      "execution_count": null,
      "metadata": {
        "id": "esSqqGIxgacS"
      },
      "outputs": [],
      "source": [
        "gender=mat['wiki']['gender'][0][0][0][Nan_removed_indices]"
      ]
    },
    {
      "cell_type": "code",
      "execution_count": null,
      "metadata": {
        "colab": {
          "base_uri": "https://localhost:8080/"
        },
        "id": "KngkeJNjg6yQ",
        "outputId": "717944c8-cd8f-494c-964d-a825fd5c8485"
      },
      "outputs": [
        {
          "output_type": "stream",
          "name": "stdout",
          "text": [
            "Removed Null values\n"
          ]
        }
      ],
      "source": [
        "if True not  in np.isnan(gender):print('Removed Null values')"
      ]
    },
    {
      "cell_type": "code",
      "execution_count": null,
      "metadata": {
        "id": "0ULLz7DtgNX4"
      },
      "outputs": [],
      "source": [
        "file_path = np.vectorize(lambda x : os.path.join(dataset_dir,x[0]))(\n",
        "    mat[\"wiki\"][\"full_path\"][0][0][0][Nan_removed_indices]\n",
        ")"
      ]
    },
    {
      "cell_type": "code",
      "execution_count": null,
      "metadata": {
        "colab": {
          "base_uri": "https://localhost:8080/"
        },
        "id": "_LhcumQmgVwT",
        "outputId": "178ea3d7-7db0-4f6e-f43c-fba92e93aca7"
      },
      "outputs": [
        {
          "output_type": "execute_result",
          "data": {
            "text/plain": [
              "array(['./wiki_crop/17/10000217_1981-05-05_2009.jpg',\n",
              "       './wiki_crop/48/10000548_1925-04-04_1964.jpg',\n",
              "       './wiki_crop/12/100012_1948-07-03_2008.jpg', ...,\n",
              "       './wiki_crop/09/9998109_1972-12-27_2013.jpg',\n",
              "       './wiki_crop/00/9999400_1981-12-13_2011.jpg',\n",
              "       './wiki_crop/80/999980_1954-06-11_2008.jpg'], dtype='<U49')"
            ]
          },
          "metadata": {},
          "execution_count": 11
        }
      ],
      "source": [
        "file_path"
      ]
    },
    {
      "cell_type": "code",
      "execution_count": null,
      "metadata": {
        "id": "hOoANVpwgXu6"
      },
      "outputs": [],
      "source": [
        "file_gender_ds=tf.data.Dataset.from_tensor_slices((file_path,gender))"
      ]
    },
    {
      "cell_type": "code",
      "execution_count": null,
      "metadata": {
        "id": "-S-MbdLQh2B0"
      },
      "outputs": [],
      "source": [
        "def parse_function(filename, label):\n",
        "    image_string = tf.io.read_file(filename)\n",
        "    image_decoded = tf.io.decode_jpeg(image_string,channels=1)\n",
        "    image = tf.image.resize(image_decoded, [256, 256])\n",
        "    return image, tf.expand_dims(label,0)"
      ]
    },
    {
      "cell_type": "code",
      "execution_count": null,
      "metadata": {
        "id": "WpOwKTM7h8ss"
      },
      "outputs": [],
      "source": [
        "image_gender_ds = file_gender_ds.map(parse_function).shuffle(seed=2,buffer_size=64)"
      ]
    },
    {
      "cell_type": "code",
      "execution_count": null,
      "metadata": {
        "id": "VmEHXKcNiIEk"
      },
      "outputs": [],
      "source": [
        "dataset_size = image_gender_ds.cardinality().numpy()"
      ]
    },
    {
      "cell_type": "code",
      "execution_count": null,
      "metadata": {
        "id": "uhhtDFbZiQTy"
      },
      "outputs": [],
      "source": [
        "AUTOTUNE = tf.data.AUTOTUNE\n",
        "train_ds = image_gender_ds.take(dataset_size*.6).batch(128).prefetch(AUTOTUNE)\n",
        "val_ds = image_gender_ds.skip(dataset_size*.6).take(dataset_size*.2).batch(128).prefetch(AUTOTUNE)\n",
        "test_ds = image_gender_ds.skip(dataset_size*.8).take(dataset_size*.2).batch(128).prefetch(AUTOTUNE)"
      ]
    },
    {
      "cell_type": "code",
      "execution_count": null,
      "metadata": {
        "colab": {
          "base_uri": "https://localhost:8080/"
        },
        "id": "z2FwZ3jQpS1h",
        "outputId": "b501ccbe-4511-42f1-950c-ffbfd598c846"
      },
      "outputs": [
        {
          "output_type": "execute_result",
          "data": {
            "text/plain": [
              "<PrefetchDataset element_spec=(TensorSpec(shape=(None, 256, 256, 1), dtype=tf.float32, name=None), TensorSpec(shape=(None, 1), dtype=tf.float64, name=None))>"
            ]
          },
          "metadata": {},
          "execution_count": 18
        }
      ],
      "source": [
        "train_ds"
      ]
    },
    {
      "cell_type": "code",
      "execution_count": null,
      "metadata": {
        "id": "Ud46KMCsif7S"
      },
      "outputs": [],
      "source": [
        "model = tf.keras.Sequential([\n",
        "    tfl.Conv2D(32,(5,5),padding=\"same\",activation=\"relu\",input_shape=(256,256,1)),\n",
        "    tfl.MaxPool2D((4,4),strides = 2),\n",
        "    tfl.Conv2D(32,(5,5),padding = \"valid\",activation=\"relu\"),\n",
        "    tfl.MaxPool2D((4,4),strides = 4),\n",
        "    tfl.Conv2D(64,(5,5),padding = \"valid\",activation=\"relu\"),\n",
        "    tfl.MaxPool2D((4,4),strides = 2),\n",
        "    tfl.Conv2D(128,(3,3),padding= \"valid\",activation=\"relu\",),\n",
        "    tfl.MaxPool2D((2,2),strides = 2),\n",
        "    tfl.Conv2D(256,(1,1),padding= \"valid\",activation=\"relu\",),\n",
        "    tfl.MaxPool2D((2,2),strides = 2),\n",
        "    tfl.Flatten(),\n",
        "    tfl.Dense(64,activation=\"relu\"),\n",
        "    tfl.Dense(1)                             \n",
        "])"
      ]
    },
    {
      "cell_type": "code",
      "execution_count": null,
      "metadata": {
        "colab": {
          "base_uri": "https://localhost:8080/"
        },
        "id": "x5SvCu25kfEj",
        "outputId": "c37d42da-1e92-4e0c-b66b-b576c2c70675"
      },
      "outputs": [
        {
          "output_type": "stream",
          "name": "stdout",
          "text": [
            "Model: \"sequential\"\n",
            "_________________________________________________________________\n",
            " Layer (type)                Output Shape              Param #   \n",
            "=================================================================\n",
            " conv2d (Conv2D)             (None, 256, 256, 32)      832       \n",
            "                                                                 \n",
            " max_pooling2d (MaxPooling2D  (None, 127, 127, 32)     0         \n",
            " )                                                               \n",
            "                                                                 \n",
            " conv2d_1 (Conv2D)           (None, 123, 123, 32)      25632     \n",
            "                                                                 \n",
            " max_pooling2d_1 (MaxPooling  (None, 30, 30, 32)       0         \n",
            " 2D)                                                             \n",
            "                                                                 \n",
            " conv2d_2 (Conv2D)           (None, 26, 26, 64)        51264     \n",
            "                                                                 \n",
            " max_pooling2d_2 (MaxPooling  (None, 12, 12, 64)       0         \n",
            " 2D)                                                             \n",
            "                                                                 \n",
            " conv2d_3 (Conv2D)           (None, 10, 10, 128)       73856     \n",
            "                                                                 \n",
            " max_pooling2d_3 (MaxPooling  (None, 5, 5, 128)        0         \n",
            " 2D)                                                             \n",
            "                                                                 \n",
            " conv2d_4 (Conv2D)           (None, 5, 5, 256)         33024     \n",
            "                                                                 \n",
            " max_pooling2d_4 (MaxPooling  (None, 2, 2, 256)        0         \n",
            " 2D)                                                             \n",
            "                                                                 \n",
            " flatten (Flatten)           (None, 1024)              0         \n",
            "                                                                 \n",
            " dense (Dense)               (None, 64)                65600     \n",
            "                                                                 \n",
            " dense_1 (Dense)             (None, 1)                 65        \n",
            "                                                                 \n",
            "=================================================================\n",
            "Total params: 250,273\n",
            "Trainable params: 250,273\n",
            "Non-trainable params: 0\n",
            "_________________________________________________________________\n"
          ]
        }
      ],
      "source": [
        "model.summary()"
      ]
    },
    {
      "cell_type": "code",
      "execution_count": null,
      "metadata": {
        "id": "afq0BbEekjR1"
      },
      "outputs": [],
      "source": [
        "model.compile(\n",
        "    optimizer=tf.keras.optimizers.Adam(0.001),\n",
        "    loss=tf.keras.losses.BinaryCrossentropy(from_logits=True),\n",
        "    metrics=['accuracy']\n",
        "    )"
      ]
    },
    {
      "cell_type": "code",
      "execution_count": null,
      "metadata": {
        "colab": {
          "base_uri": "https://localhost:8080/"
        },
        "id": "rfgGdeyslGU_",
        "outputId": "961f3499-a272-4922-b238-8d7f6f872708"
      },
      "outputs": [
        {
          "output_type": "stream",
          "name": "stdout",
          "text": [
            "Epoch 1/10\n",
            "280/280 [==============================] - 99s 295ms/step - loss: 0.5558 - accuracy: 0.7645 - val_loss: 0.4673 - val_accuracy: 0.8042\n",
            "Epoch 2/10\n",
            "280/280 [==============================] - 79s 283ms/step - loss: 0.4398 - accuracy: 0.8042 - val_loss: 0.4323 - val_accuracy: 0.8206\n",
            "Epoch 3/10\n",
            "280/280 [==============================] - 79s 282ms/step - loss: 0.4193 - accuracy: 0.8157 - val_loss: 0.4242 - val_accuracy: 0.8313\n",
            "Epoch 4/10\n",
            "280/280 [==============================] - 79s 281ms/step - loss: 0.3973 - accuracy: 0.8291 - val_loss: 0.4045 - val_accuracy: 0.8439\n",
            "Epoch 5/10\n",
            "280/280 [==============================] - 79s 280ms/step - loss: 0.3753 - accuracy: 0.8398 - val_loss: 0.3913 - val_accuracy: 0.8452\n",
            "Epoch 6/10\n",
            "280/280 [==============================] - 78s 280ms/step - loss: 0.3613 - accuracy: 0.8487 - val_loss: 0.3765 - val_accuracy: 0.8538\n",
            "Epoch 7/10\n",
            "280/280 [==============================] - 79s 282ms/step - loss: 0.3437 - accuracy: 0.8579 - val_loss: 0.3739 - val_accuracy: 0.8583\n",
            "Epoch 8/10\n",
            "280/280 [==============================] - 79s 281ms/step - loss: 0.3416 - accuracy: 0.8587 - val_loss: 0.3575 - val_accuracy: 0.8521\n",
            "Epoch 9/10\n",
            "280/280 [==============================] - 78s 279ms/step - loss: 0.3218 - accuracy: 0.8667 - val_loss: 0.3597 - val_accuracy: 0.8587\n",
            "Epoch 10/10\n",
            "280/280 [==============================] - 78s 279ms/step - loss: 0.3072 - accuracy: 0.8737 - val_loss: 0.3521 - val_accuracy: 0.8558\n"
          ]
        }
      ],
      "source": [
        "history=model.fit(\n",
        "    train_ds,\n",
        "    validation_data=val_ds,\n",
        "    epochs=10\n",
        "\n",
        ")"
      ]
    },
    {
      "cell_type": "code",
      "execution_count": null,
      "metadata": {
        "colab": {
          "base_uri": "https://localhost:8080/"
        },
        "id": "uvBBDnEclTAf",
        "outputId": "e4f1e216-2700-498a-9227-82e3d50428cf"
      },
      "outputs": [
        {
          "output_type": "stream",
          "name": "stdout",
          "text": [
            "94/94 [==============================] - 35s 99ms/step - loss: 0.3573 - accuracy: 0.8542\n",
            "Loss:  0.357322633266449\n",
            "Accuracy:  0.8542347550392151\n"
          ]
        }
      ],
      "source": [
        "loss, accuracy = model.evaluate(test_ds)\n",
        "print(\"Loss: \", loss)\n",
        "print(\"Accuracy: \", accuracy)"
      ]
    },
    {
      "cell_type": "code",
      "execution_count": null,
      "metadata": {
        "id": "PwB_qhrxqdFp"
      },
      "outputs": [],
      "source": [
        "import matplotlib.pyplot as plt \n",
        "history = history.history"
      ]
    },
    {
      "cell_type": "code",
      "execution_count": null,
      "metadata": {
        "id": "N7vizmubAZJO",
        "colab": {
          "base_uri": "https://localhost:8080/",
          "height": 336
        },
        "outputId": "3c38d6e7-e441-4f20-f7c4-dffbed861605"
      },
      "outputs": [
        {
          "output_type": "display_data",
          "data": {
            "text/plain": [
              "<Figure size 1080x360 with 2 Axes>"
            ],
            "image/png": "[encoded data removed]"
          },
          "metadata": {
            "needs_background": "light"
          }
        }
      ],
      "source": [
        "plt.figure(figsize=(15,5))\n",
        "plt.subplot(121)\n",
        "plt.title(\"Accuracy\")\n",
        "plt.plot(history[\"accuracy\"],label=\"train acc\")\n",
        "plt.plot(history[\"val_accuracy\"],label=\"val acc\")\n",
        "plt.legend()\n",
        "\n",
        "plt.subplot(122)\n",
        "plt.title(\"Loss\")\n",
        "plt.plot(history[\"loss\"],label=\"train loss\")\n",
        "plt.plot(history[\"val_loss\"],label=\"val loss\")\n",
        "plt.legend()\n",
        "\n",
        "plt.show()\n"
      ]
    }
  ],
  "metadata": {
    "accelerator": "GPU",
    "colab": {
      "collapsed_sections": [],
      "name": "Gender Prediction using 2D CNN.ipynb",
      "provenance": [],
      "include_colab_link": true
    },
    "kernelspec": {
      "display_name": "Python 3",
      "name": "python3"
    },
    "language_info": {
      "name": "python"
    }
  },
  "nbformat": 4,
  "nbformat_minor": 0
}